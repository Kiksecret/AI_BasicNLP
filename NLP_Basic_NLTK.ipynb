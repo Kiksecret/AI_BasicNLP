{
  "nbformat": 4,
  "nbformat_minor": 0,
  "metadata": {
    "colab": {
      "name": "NLP - Basic NLTK.ipynb",
      "provenance": [],
      "collapsed_sections": [],
      "authorship_tag": "ABX9TyOpXtFdC8b4z5fSmNlZgYaU",
      "include_colab_link": true
    },
    "kernelspec": {
      "name": "python3",
      "display_name": "Python 3"
    },
    "language_info": {
      "name": "python"
    }
  },
  "cells": [
    {
      "cell_type": "markdown",
      "metadata": {
        "id": "view-in-github",
        "colab_type": "text"
      },
      "source": [
        "<a href=\"https://colab.research.google.com/github/Kiksecret/AI_BasicNLP/blob/main/NLP_Basic_NLTK.ipynb\" target=\"_parent\"><img src=\"https://colab.research.google.com/assets/colab-badge.svg\" alt=\"Open In Colab\"/></a>"
      ]
    },
    {
      "cell_type": "markdown",
      "metadata": {
        "id": "mQ-nylWpYXst"
      },
      "source": [
        "#Basic NLTK\n",
        "#Tokenizer\n",
        "step 1 : Install NLTK\n"
      ]
    },
    {
      "cell_type": "code",
      "metadata": {
        "colab": {
          "base_uri": "https://localhost:8080/"
        },
        "id": "1vQZeCPjYn74",
        "outputId": "3636d6b6-9623-4047-844f-85274c8c4795"
      },
      "source": [
        "!pip install nltk"
      ],
      "execution_count": null,
      "outputs": [
        {
          "output_type": "stream",
          "name": "stdout",
          "text": [
            "Requirement already satisfied: nltk in /usr/local/lib/python3.7/dist-packages (3.2.5)\n",
            "Requirement already satisfied: six in /usr/local/lib/python3.7/dist-packages (from nltk) (1.15.0)\n"
          ]
        }
      ]
    },
    {
      "cell_type": "code",
      "metadata": {
        "colab": {
          "base_uri": "https://localhost:8080/"
        },
        "id": "M-TaxDIfY-Bo",
        "outputId": "2cb5ff59-1e98-40ec-a6e7-c3c65fd9c9f1"
      },
      "source": [
        "import nltk\n",
        "nltk.download('punkt')"
      ],
      "execution_count": null,
      "outputs": [
        {
          "output_type": "stream",
          "name": "stdout",
          "text": [
            "[nltk_data] Downloading package punkt to /root/nltk_data...\n",
            "[nltk_data]   Unzipping tokenizers/punkt.zip.\n"
          ]
        },
        {
          "output_type": "execute_result",
          "data": {
            "text/plain": [
              "True"
            ]
          },
          "metadata": {},
          "execution_count": 3
        }
      ]
    },
    {
      "cell_type": "code",
      "metadata": {
        "colab": {
          "base_uri": "https://localhost:8080/"
        },
        "id": "xvqlpek2ZwGy",
        "outputId": "fad11734-34d7-4c40-fbd4-516446c1a020"
      },
      "source": [
        "from nltk.tokenize import sent_tokenize\n",
        "paragraph = \"The University of the Thai Chamber of Commerce (UTCC) (Thai: มหาวิทยาลัยหอการค้าไทย) is a private non-profit higher education institution in Bangkok, Thailand. The university's origin dates back to 1940, with the foundation of the College of Commerce in Bangkok. In 1984, the college was granted full university status under its present name.\"\n",
        "sent_tokenize(paragraph)"
      ],
      "execution_count": null,
      "outputs": [
        {
          "output_type": "execute_result",
          "data": {
            "text/plain": [
              "['The University of the Thai Chamber of Commerce (UTCC) (Thai: มหาวิทยาลัยหอการค้าไทย) is a private non-profit higher education institution in Bangkok, Thailand.',\n",
              " \"The university's origin dates back to 1940, with the foundation of the College of Commerce in Bangkok.\",\n",
              " 'In 1984, the college was granted full university status under its present name.']"
            ]
          },
          "metadata": {},
          "execution_count": 6
        }
      ]
    },
    {
      "cell_type": "code",
      "metadata": {
        "colab": {
          "base_uri": "https://localhost:8080/"
        },
        "id": "5MNYEbiTbppN",
        "outputId": "3a5d38f5-9dfd-4878-95c6-33ea76d8e4c7"
      },
      "source": [
        "import nltk.data\n",
        "tokenizers = nltk.data.load('tokenizers/punkt/PY3/english.pickle')\n",
        "sentences = tokenizers.tokenize(paragraph)\n",
        "sentences"
      ],
      "execution_count": null,
      "outputs": [
        {
          "output_type": "execute_result",
          "data": {
            "text/plain": [
              "['The University of the Thai Chamber of Commerce (UTCC) (Thai: มหาวิทยาลัยหอการค้าไทย) is a private non-profit higher education institution in Bangkok, Thailand.',\n",
              " \"The university's origin dates back to 1940, with the foundation of the College of Commerce in Bangkok.\",\n",
              " 'In 1984, the college was granted full university status under its present name.']"
            ]
          },
          "metadata": {},
          "execution_count": 9
        }
      ]
    },
    {
      "cell_type": "code",
      "metadata": {
        "colab": {
          "base_uri": "https://localhost:8080/"
        },
        "id": "C6ayHjq-d1gD",
        "outputId": "a2d1851c-6f55-4522-abf1-9f08b0968e31"
      },
      "source": [
        "from nltk.tokenize import word_tokenize\n",
        "word_tokenize(sentences[1])"
      ],
      "execution_count": null,
      "outputs": [
        {
          "output_type": "execute_result",
          "data": {
            "text/plain": [
              "['The',\n",
              " 'university',\n",
              " \"'s\",\n",
              " 'origin',\n",
              " 'dates',\n",
              " 'back',\n",
              " 'to',\n",
              " '1940',\n",
              " ',',\n",
              " 'with',\n",
              " 'the',\n",
              " 'foundation',\n",
              " 'of',\n",
              " 'the',\n",
              " 'College',\n",
              " 'of',\n",
              " 'Commerce',\n",
              " 'in',\n",
              " 'Bangkok',\n",
              " '.']"
            ]
          },
          "metadata": {},
          "execution_count": 12
        }
      ]
    },
    {
      "cell_type": "code",
      "metadata": {
        "colab": {
          "base_uri": "https://localhost:8080/"
        },
        "id": "pbRHO1vSempS",
        "outputId": "66456f32-ab95-474d-e82e-119479c6f389"
      },
      "source": [
        "word_tokenize(\"I can't do this!\")"
      ],
      "execution_count": null,
      "outputs": [
        {
          "output_type": "execute_result",
          "data": {
            "text/plain": [
              "['I', 'ca', \"n't\", 'do', 'this', '!']"
            ]
          },
          "metadata": {},
          "execution_count": 13
        }
      ]
    },
    {
      "cell_type": "code",
      "metadata": {
        "colab": {
          "base_uri": "https://localhost:8080/"
        },
        "id": "0gvAAmY-fdbc",
        "outputId": "4fe9ab1a-358d-4464-a291-af570450ec86"
      },
      "source": [
        "from nltk.tokenize import WordPunctTokenizer\n",
        "tokenizer = WordPunctTokenizer()\n",
        "tokenizer.tokenize(\"I can't do this!\")"
      ],
      "execution_count": null,
      "outputs": [
        {
          "output_type": "execute_result",
          "data": {
            "text/plain": [
              "['I', 'can', \"'\", 't', 'do', 'this', '!']"
            ]
          },
          "metadata": {},
          "execution_count": 14
        }
      ]
    },
    {
      "cell_type": "code",
      "metadata": {
        "colab": {
          "base_uri": "https://localhost:8080/"
        },
        "id": "DF3ruSGWgNbi",
        "outputId": "d17b6ace-5fc6-4b02-acdf-332ab228d0d9"
      },
      "source": [
        "from nltk.tokenize import RegexpTokenizer\n",
        "regexTokenizer = RegexpTokenizer(\"\\s+\", gaps=True)\n",
        "regexTokenizer.tokenize(\"I can't do this!\")"
      ],
      "execution_count": null,
      "outputs": [
        {
          "output_type": "execute_result",
          "data": {
            "text/plain": [
              "['I', \"can't\", 'do', 'this!']"
            ]
          },
          "metadata": {},
          "execution_count": 16
        }
      ]
    }
  ]
}