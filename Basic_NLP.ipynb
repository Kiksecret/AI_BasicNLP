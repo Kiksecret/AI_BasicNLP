{
  "nbformat": 4,
  "nbformat_minor": 0,
  "metadata": {
    "colab": {
      "provenance": [],
      "collapsed_sections": [
        "SiKCchQg4AEr",
        "aTQ3oSyH3ix3",
        "FVIBQCtoCMhc",
        "X9rRqEhEAChy"
      ],
      "include_colab_link": true
    },
    "kernelspec": {
      "name": "python3",
      "display_name": "Python 3"
    }
  },
  "cells": [
    {
      "cell_type": "markdown",
      "metadata": {
        "id": "view-in-github",
        "colab_type": "text"
      },
      "source": [
        "<a href=\"https://colab.research.google.com/github/Kiksecret/AI_BasicNLP/blob/main/Basic_NLP.ipynb\" target=\"_parent\"><img src=\"https://colab.research.google.com/assets/colab-badge.svg\" alt=\"Open In Colab\"/></a>"
      ]
    },
    {
      "cell_type": "markdown",
      "metadata": {
        "id": "IZuqvDFb-7oy"
      },
      "source": [
        "# ขั้นตอนที่ 1: ดาวน์โหลดข้อมูล \n",
        "\n",
        "ดาวน์โหลดข้อมูล บันทึกไว้ใน /tmp/sarcasm.json และเก็บไว้ในตัวแปร data ซึ่งเป็น Dataframe ดังโค้ดต่อไปนี้"
      ]
    },
    {
      "cell_type": "code",
      "metadata": {
        "id": "-_l22c4lFHh6",
        "colab": {
          "base_uri": "https://localhost:8080/"
        },
        "outputId": "7a58e694-c532-45d1-b3ae-1a5bebf05783"
      },
      "source": [
        "!wget --no-check-certificate \\\n",
        "  https://storage.googleapis.com/laurencemoroney-blog.appspot.com/sarcasm.json \\\n",
        "  -O /tmp/sarcasm.json\n",
        "\n",
        "import pandas as pd\n",
        "import numpy as np\n",
        "import matplotlib.pyplot as plot\n",
        "import requests\n",
        "from PIL import Image\n",
        "from io import BytesIO\n",
        "\n",
        "all_df = pd.read_json(\"/tmp/sarcasm.json\")"
      ],
      "execution_count": null,
      "outputs": [
        {
          "output_type": "stream",
          "name": "stdout",
          "text": [
            "--2021-10-18 17:14:25--  https://storage.googleapis.com/laurencemoroney-blog.appspot.com/sarcasm.json\n",
            "Resolving storage.googleapis.com (storage.googleapis.com)... 142.250.101.128, 142.250.141.128, 142.251.2.128, ...\n",
            "Connecting to storage.googleapis.com (storage.googleapis.com)|142.250.101.128|:443... connected.\n",
            "HTTP request sent, awaiting response... 200 OK\n",
            "Length: 5643545 (5.4M) [application/json]\n",
            "Saving to: ‘/tmp/sarcasm.json’\n",
            "\n",
            "/tmp/sarcasm.json   100%[===================>]   5.38M  23.0MB/s    in 0.2s    \n",
            "\n",
            "2021-10-18 17:14:25 (23.0 MB/s) - ‘/tmp/sarcasm.json’ saved [5643545/5643545]\n",
            "\n"
          ]
        }
      ]
    },
    {
      "cell_type": "markdown",
      "metadata": {
        "id": "ADmPSo5kC0_w"
      },
      "source": [
        "ต่อไปนี้คือตัวอย่างข้อมูลที่อยู่ใน sarcasm.json สังเกตว่า มี 3 คอลัมน์ ได้แก่ article_link, headline และ is_sarcastic \n",
        "\n",
        "คอลัมน์ที่ควรนำมาใช้ในการวิเคราะห์คือ\n",
        "* headline ซึ่งเป็นข้อความภาษาอังกฤษ \n",
        "* is_sarcastic เมื่อเป็น 0 หมายถึง headline นั้นไม่เป็นคำประชดประชัน หากเป็น 1 หมายถึง headline นั้นเป็นคำประชดประชัน"
      ]
    },
    {
      "cell_type": "code",
      "metadata": {
        "id": "86enY-AlC5lW",
        "colab": {
          "base_uri": "https://localhost:8080/",
          "height": 419
        },
        "outputId": "ca055fc8-79be-4206-a9a5-a92f2bb6e8db"
      },
      "source": [
        "all_df"
      ],
      "execution_count": null,
      "outputs": [
        {
          "output_type": "execute_result",
          "data": {
            "text/html": [
              "<div>\n",
              "<style scoped>\n",
              "    .dataframe tbody tr th:only-of-type {\n",
              "        vertical-align: middle;\n",
              "    }\n",
              "\n",
              "    .dataframe tbody tr th {\n",
              "        vertical-align: top;\n",
              "    }\n",
              "\n",
              "    .dataframe thead th {\n",
              "        text-align: right;\n",
              "    }\n",
              "</style>\n",
              "<table border=\"1\" class=\"dataframe\">\n",
              "  <thead>\n",
              "    <tr style=\"text-align: right;\">\n",
              "      <th></th>\n",
              "      <th>article_link</th>\n",
              "      <th>headline</th>\n",
              "      <th>is_sarcastic</th>\n",
              "    </tr>\n",
              "  </thead>\n",
              "  <tbody>\n",
              "    <tr>\n",
              "      <th>0</th>\n",
              "      <td>https://www.huffingtonpost.com/entry/versace-b...</td>\n",
              "      <td>former versace store clerk sues over secret 'b...</td>\n",
              "      <td>0</td>\n",
              "    </tr>\n",
              "    <tr>\n",
              "      <th>1</th>\n",
              "      <td>https://www.huffingtonpost.com/entry/roseanne-...</td>\n",
              "      <td>the 'roseanne' revival catches up to our thorn...</td>\n",
              "      <td>0</td>\n",
              "    </tr>\n",
              "    <tr>\n",
              "      <th>2</th>\n",
              "      <td>https://local.theonion.com/mom-starting-to-fea...</td>\n",
              "      <td>mom starting to fear son's web series closest ...</td>\n",
              "      <td>1</td>\n",
              "    </tr>\n",
              "    <tr>\n",
              "      <th>3</th>\n",
              "      <td>https://politics.theonion.com/boehner-just-wan...</td>\n",
              "      <td>boehner just wants wife to listen, not come up...</td>\n",
              "      <td>1</td>\n",
              "    </tr>\n",
              "    <tr>\n",
              "      <th>4</th>\n",
              "      <td>https://www.huffingtonpost.com/entry/jk-rowlin...</td>\n",
              "      <td>j.k. rowling wishes snape happy birthday in th...</td>\n",
              "      <td>0</td>\n",
              "    </tr>\n",
              "    <tr>\n",
              "      <th>...</th>\n",
              "      <td>...</td>\n",
              "      <td>...</td>\n",
              "      <td>...</td>\n",
              "    </tr>\n",
              "    <tr>\n",
              "      <th>26704</th>\n",
              "      <td>https://www.huffingtonpost.com/entry/american-...</td>\n",
              "      <td>american politics in moral free-fall</td>\n",
              "      <td>0</td>\n",
              "    </tr>\n",
              "    <tr>\n",
              "      <th>26705</th>\n",
              "      <td>https://www.huffingtonpost.com/entry/americas-...</td>\n",
              "      <td>america's best 20 hikes</td>\n",
              "      <td>0</td>\n",
              "    </tr>\n",
              "    <tr>\n",
              "      <th>26706</th>\n",
              "      <td>https://www.huffingtonpost.com/entry/reparatio...</td>\n",
              "      <td>reparations and obama</td>\n",
              "      <td>0</td>\n",
              "    </tr>\n",
              "    <tr>\n",
              "      <th>26707</th>\n",
              "      <td>https://www.huffingtonpost.com/entry/israeli-b...</td>\n",
              "      <td>israeli ban targeting boycott supporters raise...</td>\n",
              "      <td>0</td>\n",
              "    </tr>\n",
              "    <tr>\n",
              "      <th>26708</th>\n",
              "      <td>https://www.huffingtonpost.com/entry/gourmet-g...</td>\n",
              "      <td>gourmet gifts for the foodie 2014</td>\n",
              "      <td>0</td>\n",
              "    </tr>\n",
              "  </tbody>\n",
              "</table>\n",
              "<p>26709 rows × 3 columns</p>\n",
              "</div>"
            ],
            "text/plain": [
              "                                            article_link  ... is_sarcastic\n",
              "0      https://www.huffingtonpost.com/entry/versace-b...  ...            0\n",
              "1      https://www.huffingtonpost.com/entry/roseanne-...  ...            0\n",
              "2      https://local.theonion.com/mom-starting-to-fea...  ...            1\n",
              "3      https://politics.theonion.com/boehner-just-wan...  ...            1\n",
              "4      https://www.huffingtonpost.com/entry/jk-rowlin...  ...            0\n",
              "...                                                  ...  ...          ...\n",
              "26704  https://www.huffingtonpost.com/entry/american-...  ...            0\n",
              "26705  https://www.huffingtonpost.com/entry/americas-...  ...            0\n",
              "26706  https://www.huffingtonpost.com/entry/reparatio...  ...            0\n",
              "26707  https://www.huffingtonpost.com/entry/israeli-b...  ...            0\n",
              "26708  https://www.huffingtonpost.com/entry/gourmet-g...  ...            0\n",
              "\n",
              "[26709 rows x 3 columns]"
            ]
          },
          "metadata": {},
          "execution_count": 4
        }
      ]
    },
    {
      "cell_type": "markdown",
      "metadata": {
        "id": "rXmD7YIJ_UXW"
      },
      "source": [
        "# ขั้นตอนที่ 2: การวิเคราะห์ Sarcasm"
      ]
    },
    {
      "cell_type": "markdown",
      "metadata": {
        "id": "F01mQlRV5KlH"
      },
      "source": [
        "## Train Test Split Data :"
      ]
    },
    {
      "cell_type": "code",
      "metadata": {
        "colab": {
          "base_uri": "https://localhost:8080/"
        },
        "id": "aQiovc9T4RaA",
        "outputId": "f233bfa8-6f57-4611-f412-b992d3fb9dc8"
      },
      "source": [
        "all_df.info()"
      ],
      "execution_count": null,
      "outputs": [
        {
          "output_type": "stream",
          "name": "stdout",
          "text": [
            "<class 'pandas.core.frame.DataFrame'>\n",
            "RangeIndex: 26709 entries, 0 to 26708\n",
            "Data columns (total 3 columns):\n",
            " #   Column        Non-Null Count  Dtype \n",
            "---  ------        --------------  ----- \n",
            " 0   article_link  26709 non-null  object\n",
            " 1   headline      26709 non-null  object\n",
            " 2   is_sarcastic  26709 non-null  int64 \n",
            "dtypes: int64(1), object(2)\n",
            "memory usage: 626.1+ KB\n"
          ]
        }
      ]
    },
    {
      "cell_type": "code",
      "metadata": {
        "colab": {
          "base_uri": "https://localhost:8080/",
          "height": 173
        },
        "id": "zmddMpr95yIv",
        "outputId": "c7f85a58-1305-469c-abb3-2352451dc989"
      },
      "source": [
        "# ตรวจสอบหาข้อความที่ซ้ำกัน\n",
        "all_df.groupby(\"is_sarcastic\").describe()"
      ],
      "execution_count": null,
      "outputs": [
        {
          "output_type": "execute_result",
          "data": {
            "text/html": [
              "<div>\n",
              "<style scoped>\n",
              "    .dataframe tbody tr th:only-of-type {\n",
              "        vertical-align: middle;\n",
              "    }\n",
              "\n",
              "    .dataframe tbody tr th {\n",
              "        vertical-align: top;\n",
              "    }\n",
              "\n",
              "    .dataframe thead tr th {\n",
              "        text-align: left;\n",
              "    }\n",
              "\n",
              "    .dataframe thead tr:last-of-type th {\n",
              "        text-align: right;\n",
              "    }\n",
              "</style>\n",
              "<table border=\"1\" class=\"dataframe\">\n",
              "  <thead>\n",
              "    <tr>\n",
              "      <th></th>\n",
              "      <th colspan=\"4\" halign=\"left\">article_link</th>\n",
              "      <th colspan=\"4\" halign=\"left\">headline</th>\n",
              "    </tr>\n",
              "    <tr>\n",
              "      <th></th>\n",
              "      <th>count</th>\n",
              "      <th>unique</th>\n",
              "      <th>top</th>\n",
              "      <th>freq</th>\n",
              "      <th>count</th>\n",
              "      <th>unique</th>\n",
              "      <th>top</th>\n",
              "      <th>freq</th>\n",
              "    </tr>\n",
              "    <tr>\n",
              "      <th>is_sarcastic</th>\n",
              "      <th></th>\n",
              "      <th></th>\n",
              "      <th></th>\n",
              "      <th></th>\n",
              "      <th></th>\n",
              "      <th></th>\n",
              "      <th></th>\n",
              "      <th></th>\n",
              "    </tr>\n",
              "  </thead>\n",
              "  <tbody>\n",
              "    <tr>\n",
              "      <th>0</th>\n",
              "      <td>14985</td>\n",
              "      <td>14984</td>\n",
              "      <td>https://www.huffingtonpost.comhttp://nymag.com...</td>\n",
              "      <td>2</td>\n",
              "      <td>14985</td>\n",
              "      <td>14951</td>\n",
              "      <td>the 20 funniest tweets from women this week</td>\n",
              "      <td>10</td>\n",
              "    </tr>\n",
              "    <tr>\n",
              "      <th>1</th>\n",
              "      <td>11724</td>\n",
              "      <td>11724</td>\n",
              "      <td>https://local.theonion.com/paris-review-receiv...</td>\n",
              "      <td>1</td>\n",
              "      <td>11724</td>\n",
              "      <td>11651</td>\n",
              "      <td>'no way to prevent this,' says only nation whe...</td>\n",
              "      <td>8</td>\n",
              "    </tr>\n",
              "  </tbody>\n",
              "</table>\n",
              "</div>"
            ],
            "text/plain": [
              "             article_link  ... headline\n",
              "                    count  ...     freq\n",
              "is_sarcastic               ...         \n",
              "0                   14985  ...       10\n",
              "1                   11724  ...        8\n",
              "\n",
              "[2 rows x 8 columns]"
            ]
          },
          "metadata": {},
          "execution_count": 6
        }
      ]
    },
    {
      "cell_type": "code",
      "metadata": {
        "colab": {
          "base_uri": "https://localhost:8080/"
        },
        "id": "eTUIMskk6r4X",
        "outputId": "fc159482-57e7-4c1e-c26d-b15f32cde442"
      },
      "source": [
        "all_df['is_sarcastic'].value_counts()"
      ],
      "execution_count": null,
      "outputs": [
        {
          "output_type": "execute_result",
          "data": {
            "text/plain": [
              "0    14985\n",
              "1    11724\n",
              "Name: is_sarcastic, dtype: int64"
            ]
          },
          "metadata": {},
          "execution_count": 7
        }
      ]
    },
    {
      "cell_type": "code",
      "metadata": {
        "colab": {
          "base_uri": "https://localhost:8080/",
          "height": 279
        },
        "id": "UZEgeoF560Ap",
        "outputId": "ffa845e9-91ee-4ef5-f8ce-fd3cebd9ce94"
      },
      "source": [
        "all_df.is_sarcastic.value_counts().plot.bar()"
      ],
      "execution_count": null,
      "outputs": [
        {
          "output_type": "execute_result",
          "data": {
            "text/plain": [
              "<matplotlib.axes._subplots.AxesSubplot at 0x7fed53197dd0>"
            ]
          },
          "metadata": {},
          "execution_count": 8
        },
        {
          "output_type": "display_data",
          "data": {
            "image/png": "[encoded data removed]",
            "text/plain": [
              "<Figure size 432x288 with 1 Axes>"
            ]
          },
          "metadata": {
            "needs_background": "light"
          }
        }
      ]
    },
    {
      "cell_type": "code",
      "metadata": {
        "id": "lXqY5D3-70ig"
      },
      "source": [
        "# ทำการแยก Data เป็น train_df เพื่อทำการ Train และ ทำ Cross Validation 5Foldและ10Fold\n",
        "#                   test_df เพื่อทำการ Test Model ในขั้นต้อนสุดท้ายอีกครั้งหนึ่ง\n",
        "\n",
        "from sklearn.model_selection import train_test_split"
      ],
      "execution_count": null,
      "outputs": []
    },
    {
      "cell_type": "code",
      "metadata": {
        "id": "jl77NKaC749o"
      },
      "source": [
        "train_df, test_df = train_test_split(all_df, test_size=0.25, random_state=1987)"
      ],
      "execution_count": null,
      "outputs": []
    },
    {
      "cell_type": "code",
      "metadata": {
        "id": "6uCdrZDp76ge",
        "colab": {
          "base_uri": "https://localhost:8080/"
        },
        "outputId": "beb89e2d-5919-4a45-e6d5-2342cbf316fb"
      },
      "source": [
        "train_df['is_sarcastic'].value_counts()"
      ],
      "execution_count": null,
      "outputs": [
        {
          "output_type": "execute_result",
          "data": {
            "text/plain": [
              "0    11259\n",
              "1     8772\n",
              "Name: is_sarcastic, dtype: int64"
            ]
          },
          "metadata": {},
          "execution_count": 11
        }
      ]
    },
    {
      "cell_type": "code",
      "metadata": {
        "colab": {
          "base_uri": "https://localhost:8080/"
        },
        "id": "fkl30VU777C3",
        "outputId": "f0e2c521-9c18-483a-a1ff-57ef6267997f"
      },
      "source": [
        "test_df['is_sarcastic'].value_counts()"
      ],
      "execution_count": null,
      "outputs": [
        {
          "output_type": "execute_result",
          "data": {
            "text/plain": [
              "0    3726\n",
              "1    2952\n",
              "Name: is_sarcastic, dtype: int64"
            ]
          },
          "metadata": {},
          "execution_count": 12
        }
      ]
    },
    {
      "cell_type": "code",
      "metadata": {
        "colab": {
          "base_uri": "https://localhost:8080/",
          "height": 279
        },
        "id": "4gTLf2Fh79Mz",
        "outputId": "51a3e9d9-d1c7-43db-eedd-28d4121fd1a7"
      },
      "source": [
        "train_df['is_sarcastic'].value_counts().plot.bar()"
      ],
      "execution_count": null,
      "outputs": [
        {
          "output_type": "execute_result",
          "data": {
            "text/plain": [
              "<matplotlib.axes._subplots.AxesSubplot at 0x7fed3c124490>"
            ]
          },
          "metadata": {},
          "execution_count": 13
        },
        {
          "output_type": "display_data",
          "data": {
            "image/png": "[encoded data removed]",
            "text/plain": [
              "<Figure size 432x288 with 1 Axes>"
            ]
          },
          "metadata": {
            "needs_background": "light"
          }
        }
      ]
    },
    {
      "cell_type": "code",
      "metadata": {
        "colab": {
          "base_uri": "https://localhost:8080/",
          "height": 279
        },
        "id": "tzl87vGn7_Rr",
        "outputId": "e6442d5b-9d58-4795-9844-93160a505e96"
      },
      "source": [
        "test_df['is_sarcastic'].value_counts().plot.bar()"
      ],
      "execution_count": null,
      "outputs": [
        {
          "output_type": "execute_result",
          "data": {
            "text/plain": [
              "<matplotlib.axes._subplots.AxesSubplot at 0x7fed3c0f90d0>"
            ]
          },
          "metadata": {},
          "execution_count": 14
        },
        {
          "output_type": "display_data",
          "data": {
            "image/png": "[encoded data removed]",
            "text/plain": [
              "<Figure size 432x288 with 1 Axes>"
            ]
          },
          "metadata": {
            "needs_background": "light"
          }
        }
      ]
    },
    {
      "cell_type": "markdown",
      "metadata": {
        "id": "SiKCchQg4AEr"
      },
      "source": [
        "## Feature Extraction :"
      ]
    },
    {
      "cell_type": "code",
      "metadata": {
        "colab": {
          "base_uri": "https://localhost:8080/",
          "height": 514
        },
        "id": "_xlB-OPFxUMQ",
        "outputId": "11e7ea65-0bf9-4e4c-e55e-572c4568999d"
      },
      "source": [
        "!pip install pythainlp"
      ],
      "execution_count": null,
      "outputs": [
        {
          "output_type": "stream",
          "name": "stdout",
          "text": [
            "Collecting pythainlp\n",
            "  Downloading pythainlp-2.3.2-py3-none-any.whl (11.0 MB)\n",
            "\u001b[K     |████████████████████████████████| 11.0 MB 18.8 MB/s \n",
            "\u001b[?25hCollecting tinydb>=3.0\n",
            "  Downloading tinydb-4.5.2-py3-none-any.whl (23 kB)\n",
            "Collecting python-crfsuite>=0.9.6\n",
            "  Downloading python_crfsuite-0.9.7-cp37-cp37m-manylinux1_x86_64.whl (743 kB)\n",
            "\u001b[K     |████████████████████████████████| 743 kB 48.5 MB/s \n",
            "\u001b[?25hRequirement already satisfied: requests>=2.22.0 in /usr/local/lib/python3.7/dist-packages (from pythainlp) (2.23.0)\n",
            "Requirement already satisfied: certifi>=2017.4.17 in /usr/local/lib/python3.7/dist-packages (from requests>=2.22.0->pythainlp) (2021.5.30)\n",
            "Requirement already satisfied: urllib3!=1.25.0,!=1.25.1,<1.26,>=1.21.1 in /usr/local/lib/python3.7/dist-packages (from requests>=2.22.0->pythainlp) (1.24.3)\n",
            "Requirement already satisfied: idna<3,>=2.5 in /usr/local/lib/python3.7/dist-packages (from requests>=2.22.0->pythainlp) (2.10)\n",
            "Requirement already satisfied: chardet<4,>=3.0.2 in /usr/local/lib/python3.7/dist-packages (from requests>=2.22.0->pythainlp) (3.0.4)\n",
            "Collecting typing-extensions<4.0.0,>=3.10.0\n",
            "  Downloading typing_extensions-3.10.0.2-py3-none-any.whl (26 kB)\n",
            "Installing collected packages: typing-extensions, tinydb, python-crfsuite, pythainlp\n",
            "  Attempting uninstall: typing-extensions\n",
            "    Found existing installation: typing-extensions 3.7.4.3\n",
            "    Uninstalling typing-extensions-3.7.4.3:\n",
            "      Successfully uninstalled typing-extensions-3.7.4.3\n",
            "\u001b[31mERROR: pip's dependency resolver does not currently take into account all the packages that are installed. This behaviour is the source of the following dependency conflicts.\n",
            "tensorflow 2.6.0 requires typing-extensions~=3.7.4, but you have typing-extensions 3.10.0.2 which is incompatible.\u001b[0m\n",
            "Successfully installed pythainlp-2.3.2 python-crfsuite-0.9.7 tinydb-4.5.2 typing-extensions-3.10.0.2\n"
          ]
        },
        {
          "output_type": "display_data",
          "data": {
            "application/vnd.colab-display-data+json": {
              "pip_warning": {
                "packages": [
                  "typing_extensions"
                ]
              }
            }
          },
          "metadata": {}
        }
      ]
    },
    {
      "cell_type": "code",
      "metadata": {
        "id": "MTHUyJTLyCJX"
      },
      "source": [
        "# ทำการเรียก Module ตัดคำภาษาไทย\n",
        "from pythainlp import word_tokenize"
      ],
      "execution_count": null,
      "outputs": []
    },
    {
      "cell_type": "code",
      "metadata": {
        "id": "Ebb5TDBnyJ73"
      },
      "source": [
        "# สร้าง Function ในการตัดคำ และ ทำความสะอาดข้อมูล\n",
        "def get_th_token(text):\n",
        "    text = text.lower() \n",
        "    text = text.replace('\\n',' ')\n",
        "    token = word_tokenize(text, engine=\"newmm\")\n",
        "    return token"
      ],
      "execution_count": null,
      "outputs": []
    },
    {
      "cell_type": "code",
      "metadata": {
        "colab": {
          "base_uri": "https://localhost:8080/"
        },
        "id": "lMQZdHSwz4Ou",
        "outputId": "666575cb-cd92-475a-9f67-4b322b2322d7"
      },
      "source": [
        "# ทดสอบ Function : get_th_token\n",
        "samp_text='reparations and obama'\n",
        "get_th_token(samp_text)"
      ],
      "execution_count": null,
      "outputs": [
        {
          "output_type": "execute_result",
          "data": {
            "text/plain": [
              "['reparations', ' ', 'and', ' ', 'obama']"
            ]
          },
          "metadata": {},
          "execution_count": 18
        }
      ]
    },
    {
      "cell_type": "code",
      "metadata": {
        "id": "3ZsU90LByoqV"
      },
      "source": [
        "# เรียกใช้ CountVectorizer เพื่อแปลงข้อความให้เป็นตัวเลข\n",
        "from sklearn.feature_extraction.text import CountVectorizer"
      ],
      "execution_count": null,
      "outputs": []
    },
    {
      "cell_type": "code",
      "metadata": {
        "id": "tlBjTLzdy0c1"
      },
      "source": [
        "# เแทนที่ Mudule ตัดคำภาษาไทยด้วย Func ที่สร้างไว้ ลงใน Module CountVectorizer และเรียกใช้ N-Gram เพื่อช่วยในการลำดับคำ\n",
        "vectorizer = CountVectorizer(tokenizer=get_th_token, ngram_range=(1,2))"
      ],
      "execution_count": null,
      "outputs": []
    },
    {
      "cell_type": "code",
      "metadata": {
        "id": "wn_bMz9dy43D"
      },
      "source": [
        "data = [\"reparations and obama','america's best 20 hikes\"]"
      ],
      "execution_count": null,
      "outputs": []
    },
    {
      "cell_type": "code",
      "metadata": {
        "colab": {
          "base_uri": "https://localhost:8080/"
        },
        "id": "reJqIW-KzBH2",
        "outputId": "f6450eb6-7ac8-4a6d-d293-189c65f4773f"
      },
      "source": [
        "vectorizer.fit(data)"
      ],
      "execution_count": null,
      "outputs": [
        {
          "output_type": "stream",
          "name": "stderr",
          "text": [
            "/usr/local/lib/python3.7/dist-packages/sklearn/feature_extraction/text.py:507: UserWarning: The parameter 'token_pattern' will not be used since 'tokenizer' is not None'\n",
            "  warnings.warn(\"The parameter 'token_pattern' will not be used\"\n"
          ]
        },
        {
          "output_type": "execute_result",
          "data": {
            "text/plain": [
              "CountVectorizer(analyzer='word', binary=False, decode_error='strict',\n",
              "                dtype=<class 'numpy.int64'>, encoding='utf-8', input='content',\n",
              "                lowercase=True, max_df=1.0, max_features=None, min_df=1,\n",
              "                ngram_range=(1, 2), preprocessor=None, stop_words=None,\n",
              "                strip_accents=None, token_pattern='(?u)\\\\b\\\\w\\\\w+\\\\b',\n",
              "                tokenizer=<function get_th_token at 0x7fed2fe745f0>,\n",
              "                vocabulary=None)"
            ]
          },
          "metadata": {},
          "execution_count": 22
        }
      ]
    },
    {
      "cell_type": "markdown",
      "metadata": {
        "id": "aSFPvWYW1J03"
      },
      "source": [
        "Corpus"
      ]
    },
    {
      "cell_type": "code",
      "metadata": {
        "colab": {
          "base_uri": "https://localhost:8080/"
        },
        "id": "5DC1LNJmzCIz",
        "outputId": "cdace97f-c6de-42b6-baa9-7e9c15db1db4"
      },
      "source": [
        "vectorizer.get_feature_names()"
      ],
      "execution_count": null,
      "outputs": [
        {
          "output_type": "execute_result",
          "data": {
            "text/plain": [
              "[' ',\n",
              " '  20',\n",
              " '  and',\n",
              " '  best',\n",
              " '  hikes',\n",
              " '  obama',\n",
              " \"'\",\n",
              " \"' s\",\n",
              " \"','\",\n",
              " \"',' america\",\n",
              " '20',\n",
              " '20  ',\n",
              " 'america',\n",
              " \"america '\",\n",
              " 'and',\n",
              " 'and  ',\n",
              " 'best',\n",
              " 'best  ',\n",
              " 'hikes',\n",
              " 'obama',\n",
              " \"obama ','\",\n",
              " 'reparations',\n",
              " 'reparations  ',\n",
              " 's',\n",
              " 's  ']"
            ]
          },
          "metadata": {},
          "execution_count": 23
        }
      ]
    },
    {
      "cell_type": "code",
      "metadata": {
        "colab": {
          "base_uri": "https://localhost:8080/"
        },
        "id": "AbvZaFMKzGlN",
        "outputId": "13610502-9800-452e-9294-917e2f12891a"
      },
      "source": [
        "vectorizer.transform(data)"
      ],
      "execution_count": null,
      "outputs": [
        {
          "output_type": "execute_result",
          "data": {
            "text/plain": [
              "<1x25 sparse matrix of type '<class 'numpy.int64'>'\n",
              "\twith 25 stored elements in Compressed Sparse Row format>"
            ]
          },
          "metadata": {},
          "execution_count": 24
        }
      ]
    },
    {
      "cell_type": "code",
      "metadata": {
        "colab": {
          "base_uri": "https://localhost:8080/"
        },
        "id": "lGnj0kmc1coc",
        "outputId": "d379d902-f4ce-4717-d9d8-b7e8074f49fc"
      },
      "source": [
        "vectorizer.transform(data).toarray()"
      ],
      "execution_count": null,
      "outputs": [
        {
          "output_type": "execute_result",
          "data": {
            "text/plain": [
              "array([[5, 1, 1, 1, 1, 1, 1, 1, 1, 1, 1, 1, 1, 1, 1, 1, 1, 1, 1, 1, 1, 1,\n",
              "        1, 1, 1]])"
            ]
          },
          "metadata": {},
          "execution_count": 25
        }
      ]
    },
    {
      "cell_type": "code",
      "metadata": {
        "colab": {
          "base_uri": "https://localhost:8080/"
        },
        "id": "OJ6f9xaA1mjG",
        "outputId": "e4c61435-5741-4ad8-813e-56c4a0310dbc"
      },
      "source": [
        "vectorizer.transform(['reparations and obama']).toarray()"
      ],
      "execution_count": null,
      "outputs": [
        {
          "output_type": "execute_result",
          "data": {
            "text/plain": [
              "array([[2, 0, 1, 0, 0, 1, 0, 0, 0, 0, 0, 0, 0, 0, 1, 1, 0, 0, 0, 1, 0, 1,\n",
              "        1, 0, 0]])"
            ]
          },
          "metadata": {},
          "execution_count": 26
        }
      ]
    },
    {
      "cell_type": "code",
      "metadata": {
        "id": "OseRWsrX1wGT"
      },
      "source": [
        "train_data = train_df['headline']\n",
        "test_data = test_df['headline']\n",
        "# เรียก Column Text มาเป็น Feature เพื่อทำการ Train\n",
        "\n",
        "train_label = train_df['is_sarcastic']\n",
        "test_label = test_df['is_sarcastic']\n",
        "# เรียก Column Type มาเป็น Label"
      ],
      "execution_count": null,
      "outputs": []
    },
    {
      "cell_type": "code",
      "metadata": {
        "id": "3MuI-v3u1_AZ"
      },
      "source": [
        "vectorizer = CountVectorizer(tokenizer=get_th_token, ngram_range=(1,2))"
      ],
      "execution_count": null,
      "outputs": []
    },
    {
      "cell_type": "code",
      "metadata": {
        "colab": {
          "base_uri": "https://localhost:8080/"
        },
        "id": "djUvP40h2Azg",
        "outputId": "16c7df76-93c4-48bf-f4df-f8872f260769"
      },
      "source": [
        "vectorizer.fit(train_data)"
      ],
      "execution_count": null,
      "outputs": [
        {
          "output_type": "stream",
          "name": "stderr",
          "text": [
            "/usr/local/lib/python3.7/dist-packages/sklearn/feature_extraction/text.py:507: UserWarning: The parameter 'token_pattern' will not be used since 'tokenizer' is not None'\n",
            "  warnings.warn(\"The parameter 'token_pattern' will not be used\"\n"
          ]
        },
        {
          "output_type": "execute_result",
          "data": {
            "text/plain": [
              "CountVectorizer(analyzer='word', binary=False, decode_error='strict',\n",
              "                dtype=<class 'numpy.int64'>, encoding='utf-8', input='content',\n",
              "                lowercase=True, max_df=1.0, max_features=None, min_df=1,\n",
              "                ngram_range=(1, 2), preprocessor=None, stop_words=None,\n",
              "                strip_accents=None, token_pattern='(?u)\\\\b\\\\w\\\\w+\\\\b',\n",
              "                tokenizer=<function get_th_token at 0x7fed2fe745f0>,\n",
              "                vocabulary=None)"
            ]
          },
          "metadata": {},
          "execution_count": 29
        }
      ]
    },
    {
      "cell_type": "code",
      "metadata": {
        "id": "c_NuoUtC2Rqz"
      },
      "source": [
        "train_feature = vectorizer.transform(train_data)\n",
        "test_feature = vectorizer.transform(test_data)"
      ],
      "execution_count": null,
      "outputs": []
    },
    {
      "cell_type": "code",
      "metadata": {
        "id": "Akr0d-RI2S7D"
      },
      "source": [
        "train_feature"
      ],
      "execution_count": null,
      "outputs": []
    },
    {
      "cell_type": "code",
      "metadata": {
        "colab": {
          "base_uri": "https://localhost:8080/"
        },
        "id": "DqkflExq2VID",
        "outputId": "266a8851-0847-4cec-f9e0-3b3a385c1c44"
      },
      "source": [
        "train_feature.shape"
      ],
      "execution_count": null,
      "outputs": [
        {
          "output_type": "execute_result",
          "data": {
            "text/plain": [
              "(20031, 75912)"
            ]
          },
          "metadata": {},
          "execution_count": 32
        }
      ]
    },
    {
      "cell_type": "code",
      "metadata": {
        "colab": {
          "base_uri": "https://localhost:8080/"
        },
        "id": "GaHM9Ooq2XA9",
        "outputId": "a751d53c-229c-41f7-ae21-8f3cc915e95d"
      },
      "source": [
        "train_feature.toarray()"
      ],
      "execution_count": null,
      "outputs": [
        {
          "output_type": "execute_result",
          "data": {
            "text/plain": [
              "array([[12,  0,  0, ...,  0,  0,  0],\n",
              "       [12,  0,  0, ...,  0,  0,  0],\n",
              "       [12,  0,  0, ...,  0,  0,  0],\n",
              "       ...,\n",
              "       [ 2,  0,  0, ...,  0,  0,  0],\n",
              "       [ 9,  0,  0, ...,  0,  0,  0],\n",
              "       [13,  0,  0, ...,  0,  0,  0]])"
            ]
          },
          "metadata": {},
          "execution_count": 33
        }
      ]
    },
    {
      "cell_type": "code",
      "metadata": {
        "id": "Yt8KX2b69ezb",
        "colab": {
          "base_uri": "https://localhost:8080/"
        },
        "outputId": "7e802430-2242-4308-f017-f907a032cf47"
      },
      "source": [
        "test_feature"
      ],
      "execution_count": null,
      "outputs": [
        {
          "output_type": "execute_result",
          "data": {
            "text/plain": [
              "<6678x75912 sparse matrix of type '<class 'numpy.int64'>'\n",
              "\twith 189648 stored elements in Compressed Sparse Row format>"
            ]
          },
          "metadata": {},
          "execution_count": 34
        }
      ]
    },
    {
      "cell_type": "code",
      "metadata": {
        "colab": {
          "base_uri": "https://localhost:8080/"
        },
        "id": "oRdSV8nu2ZTB",
        "outputId": "c0b7bc7a-b73d-4ab6-be67-6f0ffcf31d61"
      },
      "source": [
        "test_feature.shape"
      ],
      "execution_count": null,
      "outputs": [
        {
          "output_type": "execute_result",
          "data": {
            "text/plain": [
              "(6678, 75912)"
            ]
          },
          "metadata": {},
          "execution_count": 35
        }
      ]
    },
    {
      "cell_type": "code",
      "metadata": {
        "id": "2dDmVYMa2kJl"
      },
      "source": [
        "test_feature.toarray()"
      ],
      "execution_count": null,
      "outputs": []
    },
    {
      "cell_type": "code",
      "metadata": {
        "id": "60BFaboi2lxX"
      },
      "source": [
        "from sklearn.preprocessing import normalize"
      ],
      "execution_count": null,
      "outputs": []
    },
    {
      "cell_type": "code",
      "metadata": {
        "id": "65OrSm2e2n3b"
      },
      "source": [
        "train_feature_normalize"
      ],
      "execution_count": null,
      "outputs": []
    },
    {
      "cell_type": "code",
      "metadata": {
        "id": "maNhiDLh2t63"
      },
      "source": [
        "train_feature_normalize.shape\n",
        "# โดยที่ Shape ของ Data ยังคงเท่ากันกับ train_feature ที่ยังไม่ทำการ Normalize"
      ],
      "execution_count": null,
      "outputs": []
    },
    {
      "cell_type": "code",
      "metadata": {
        "id": "AVwAgVU72ui2"
      },
      "source": [
        "train_feature_normalize.toarray()"
      ],
      "execution_count": null,
      "outputs": []
    },
    {
      "cell_type": "code",
      "metadata": {
        "id": "H5KaybXs2wU6"
      },
      "source": [
        "test_feature_normalize"
      ],
      "execution_count": null,
      "outputs": []
    },
    {
      "cell_type": "code",
      "metadata": {
        "id": "rb5ivztm2ySt"
      },
      "source": [
        "test_feature_normalize.shape"
      ],
      "execution_count": null,
      "outputs": []
    },
    {
      "cell_type": "code",
      "metadata": {
        "id": "xNX1m4CS20Ck"
      },
      "source": [
        "test_feature_normalize.toarray()"
      ],
      "execution_count": null,
      "outputs": []
    },
    {
      "cell_type": "markdown",
      "metadata": {
        "id": "aTQ3oSyH3ix3"
      },
      "source": [
        "# อัลกอริทึมที่ 1 : Logistic Regression\n",
        "โปรดเพิ่มเติมข้อความและโค้ด"
      ]
    },
    {
      "cell_type": "code",
      "metadata": {
        "id": "qHR1oyz73u7S"
      },
      "source": [
        "from sklearn.linear_model import LogisticRegression"
      ],
      "execution_count": null,
      "outputs": []
    },
    {
      "cell_type": "code",
      "metadata": {
        "id": "D1TMLr6y7_Kl"
      },
      "source": [
        "model_LR = LogisticRegression(random_state=1987,  solver='lbfgs')"
      ],
      "execution_count": null,
      "outputs": []
    },
    {
      "cell_type": "code",
      "metadata": {
        "id": "oDjj1OheG9Og"
      },
      "source": [
        "model_LR.fit(train_feature_normalize, train_label)"
      ],
      "execution_count": null,
      "outputs": []
    },
    {
      "cell_type": "code",
      "metadata": {
        "id": "4drM1672FUz0"
      },
      "source": [
        "c5_LR = cross_val_score(model_LR, train_feature_normalize, train_label, cv=5, scoring='accuracy')\n",
        "mc5_LR = cross_val_score(model_LR, train_feature_normalize, train_label, cv=5, scoring='accuracy').mean()\n",
        "print(c5_LR)\n",
        "print(mc5_LR)"
      ],
      "execution_count": null,
      "outputs": []
    },
    {
      "cell_type": "code",
      "metadata": {
        "id": "JmPmtO4sFVfB"
      },
      "source": [
        "scoring = {'accuracy' : make_scorer(accuracy_score), \n",
        "           'precision' : make_scorer(precision_score),\n",
        "           'recall' : make_scorer(recall_score), \n",
        "           'f1_score' : make_scorer(f1_score)}\n",
        "\n",
        "c5_LR_CV_score = cross_validate(model_LR, train_feature_normalize, train_label, cv=5, scoring=(scoring))\n",
        "c5_LR_CV_score"
      ],
      "execution_count": null,
      "outputs": []
    },
    {
      "cell_type": "code",
      "metadata": {
        "id": "YHetwhk1FWBg"
      },
      "source": [
        "c5_LR_CV_score_table = pd.DataFrame(c5_LR_CV_score)\n",
        "c5_LR_CV_score_table"
      ],
      "execution_count": null,
      "outputs": []
    },
    {
      "cell_type": "code",
      "metadata": {
        "id": "x5JgHolvFak4"
      },
      "source": [
        "c5_LR_CV_score_board = c5_LR_CV_score_table[['test_accuracy', \n",
        "                                               'test_precision', \n",
        "                                               'test_recall', \n",
        "                                               'test_f1_score']].mean()\n",
        "c5_LR_CV_score_board"
      ],
      "execution_count": null,
      "outputs": []
    },
    {
      "cell_type": "code",
      "metadata": {
        "id": "7KYB1Xn5FdDf"
      },
      "source": [
        "visualizer_c5_LR = CVScores(model_LR, cv=5, scoring='accuracy')\n",
        "\n",
        "visualizer_c5_LR.fit(train_feature_normalize, train_label)\n",
        "visualizer_c5_LR.show() "
      ],
      "execution_count": null,
      "outputs": []
    },
    {
      "cell_type": "code",
      "metadata": {
        "id": "wAwbEAe7Ffgh"
      },
      "source": [
        "c10_LR = cross_val_score(model_LR, train_feature_normalize, train_label, cv=10, scoring='accuracy')\n",
        "mc10_LR = cross_val_score(model_LR, train_feature_normalize, train_label, cv=10, scoring='accuracy').mean()\n",
        "print(c10_LR)\n",
        "print(mc10_LR)"
      ],
      "execution_count": null,
      "outputs": []
    },
    {
      "cell_type": "code",
      "metadata": {
        "id": "l6mX60K3Fh3u"
      },
      "source": [
        "scoring = {'accuracy' : make_scorer(accuracy_score), \n",
        "           'precision' : make_scorer(precision_score),\n",
        "           'recall' : make_scorer(recall_score), \n",
        "           'f1_score' : make_scorer(f1_score)}\n",
        "\n",
        "c10_LR_CV_score = cross_validate(model_LR, train_feature_normalize, train_label, cv=10, scoring=(scoring))\n",
        "c10_LR_CV_score"
      ],
      "execution_count": null,
      "outputs": []
    },
    {
      "cell_type": "code",
      "metadata": {
        "id": "Lamz2D22Fjoc"
      },
      "source": [
        "c10_LR_CV_score_table = pd.DataFrame(c10_LR_CV_score)\n",
        "c10_LR_CV_score_table"
      ],
      "execution_count": null,
      "outputs": []
    },
    {
      "cell_type": "code",
      "metadata": {
        "id": "lu5uFD7hFnkF"
      },
      "source": [
        "c10_LR_CV_score_board = c10_LR_CV_score_table[['test_accuracy', \n",
        "                                               'test_precision', \n",
        "                                               'test_recall', \n",
        "                                               'test_f1_score']].mean()\n",
        "c10_LR_CV_score_board"
      ],
      "execution_count": null,
      "outputs": []
    },
    {
      "cell_type": "code",
      "metadata": {
        "id": "1ZeByQ52FoHb"
      },
      "source": [
        "visualizer_c10_LR = CVScores(model_LR, cv=10, scoring='accuracy')\n",
        "\n",
        "visualizer_c10_LR.fit(train_feature_normalize, train_label)\n",
        "visualizer_c10_LR.show() "
      ],
      "execution_count": null,
      "outputs": []
    },
    {
      "cell_type": "code",
      "metadata": {
        "id": "ePBYXwnlFpzu"
      },
      "source": [
        "predict_LR = model_LR.predict(test_feature_normalize)"
      ],
      "execution_count": null,
      "outputs": []
    },
    {
      "cell_type": "code",
      "metadata": {
        "id": "Tp0-0ifTFrn2"
      },
      "source": [
        "acc_LR = classification_report(test_label, predict_LR, digits=4)\n",
        "print(acc_LR)"
      ],
      "execution_count": null,
      "outputs": []
    },
    {
      "cell_type": "code",
      "metadata": {
        "id": "OJUMfeUJFtJ9"
      },
      "source": [
        "con_mat_LR = confusion_matrix(test_label, predict_LR)\n",
        "print(con_mat_LR)"
      ],
      "execution_count": null,
      "outputs": []
    },
    {
      "cell_type": "code",
      "metadata": {
        "id": "n2nZwtyUFvgN"
      },
      "source": [
        "lr_cm = ConfusionMatrix(model_LR)\n",
        "\n",
        "lr_cm.fit(train_feature_normalize, train_label)\n",
        "lr_cm.score(test_feature_normalize, test_label)\n",
        "\n",
        "lr_cm.show()"
      ],
      "execution_count": null,
      "outputs": []
    },
    {
      "cell_type": "markdown",
      "metadata": {
        "id": "FVIBQCtoCMhc"
      },
      "source": [
        "# อัลกอริทึมที่ 2 : Random Forest\n",
        "โปรดเพิ่มเติมข้อความและโค้ด"
      ]
    },
    {
      "cell_type": "code",
      "metadata": {
        "id": "P5St_g_ACT2T"
      },
      "source": [
        "from sklearn.ensemble import RandomForestClassifier"
      ],
      "execution_count": null,
      "outputs": []
    },
    {
      "cell_type": "code",
      "metadata": {
        "id": "ClHB28SzGAL2"
      },
      "source": [
        "model_RDF = RandomForestClassifier(n_estimators=100, random_state=1987)"
      ],
      "execution_count": null,
      "outputs": []
    },
    {
      "cell_type": "code",
      "metadata": {
        "id": "h91fcI_MGFy6"
      },
      "source": [
        "model_RDF.fit(train_feature_normalize, train_label)"
      ],
      "execution_count": null,
      "outputs": []
    },
    {
      "cell_type": "code",
      "metadata": {
        "id": "K2Zai65JGHoR"
      },
      "source": [
        "c5_RDF = cross_val_score(model_RDF, train_feature_normalize, train_label, cv=5, scoring='accuracy')\n",
        "mc5_RDF = cross_val_score(model_RDF, train_feature_normalize, train_label, cv=5, scoring='accuracy').mean()\n",
        "print(c5_RDF)\n",
        "print(mc5_RDF)"
      ],
      "execution_count": null,
      "outputs": []
    },
    {
      "cell_type": "code",
      "metadata": {
        "id": "Sie9gLIzGInu"
      },
      "source": [
        "scoring = {'accuracy' : make_scorer(accuracy_score), \n",
        "           'precision' : make_scorer(precision_score),\n",
        "           'recall' : make_scorer(recall_score), \n",
        "           'f1_score' : make_scorer(f1_score)}\n",
        "\n",
        "c5_RDF_CV_score = cross_validate(model_RDF, train_feature_normalize, train_label, cv=5, scoring=(scoring))\n",
        "c5_RDF_CV_score"
      ],
      "execution_count": null,
      "outputs": []
    },
    {
      "cell_type": "code",
      "metadata": {
        "id": "Rw6zLdF-GLE2"
      },
      "source": [
        "c5_RDF_CV_score_table = pd.DataFrame(c5_RDF_CV_score)\n",
        "c5_RDF_CV_score_table"
      ],
      "execution_count": null,
      "outputs": []
    },
    {
      "cell_type": "code",
      "metadata": {
        "id": "1kU9felFGNAG"
      },
      "source": [
        "c5_RDF_CV_score_board = c5_RDF_CV_score_table[['test_accuracy', \n",
        "                                               'test_precision', \n",
        "                                               'test_recall', \n",
        "                                               'test_f1_score']].mean()\n",
        "c5_RDF_CV_score_board"
      ],
      "execution_count": null,
      "outputs": []
    },
    {
      "cell_type": "code",
      "metadata": {
        "id": "H84CvSzsGPFG"
      },
      "source": [
        "visualizer_c5_RDF = CVScores(model_RDF, cv=5, scoring='accuracy')\n",
        "\n",
        "visualizer_c5_RDF.fit(train_feature_normalize, train_label)\n",
        "visualizer_c5_RDF.show() "
      ],
      "execution_count": null,
      "outputs": []
    },
    {
      "cell_type": "code",
      "metadata": {
        "id": "iYLOuFR7GQ9c"
      },
      "source": [
        "c10_RDF = cross_val_score(model_RDF, train_feature_normalize, train_label, cv=10, scoring='accuracy')\n",
        "mc10_RDF = cross_val_score(model_RDF, train_feature_normalize, train_label, cv=10, scoring='accuracy').mean()\n",
        "\n",
        "print(c10_RDF)\n",
        "print(mc10_RDF)"
      ],
      "execution_count": null,
      "outputs": []
    },
    {
      "cell_type": "code",
      "metadata": {
        "id": "9XY2OHEfGTRo"
      },
      "source": [
        "scoring = {'accuracy' : make_scorer(accuracy_score), \n",
        "           'precision' : make_scorer(precision_score),\n",
        "           'recall' : make_scorer(recall_score), \n",
        "           'f1_score' : make_scorer(f1_score)}\n",
        "\n",
        "c10_RDF_CV_score = cross_validate(model_RDF, train_feature_normalize, train_label, cv=10, scoring=(scoring))\n",
        "c10_RDF_CV_score"
      ],
      "execution_count": null,
      "outputs": []
    },
    {
      "cell_type": "code",
      "metadata": {
        "id": "m06rOCSRGU7J"
      },
      "source": [
        "c10_RDF_CV_score_table = pd.DataFrame(c10_RDF_CV_score)\n",
        "c10_RDF_CV_score_table"
      ],
      "execution_count": null,
      "outputs": []
    },
    {
      "cell_type": "code",
      "metadata": {
        "id": "HVVk17C3GWqz"
      },
      "source": [
        "c10_RDF_CV_score_board = c10_RDF_CV_score_table[['test_accuracy', \n",
        "                                               'test_precision', \n",
        "                                               'test_recall', \n",
        "                                               'test_f1_score']].mean()\n",
        "c10_RDF_CV_score_board"
      ],
      "execution_count": null,
      "outputs": []
    },
    {
      "cell_type": "code",
      "metadata": {
        "id": "BlcZH_PMGYb_"
      },
      "source": [
        "visualizer_c10_RDF = CVScores(model_RDF, cv=10, scoring='accuracy')\n",
        "\n",
        "visualizer_c10_RDF.fit(train_feature_normalize, train_label)\n",
        "visualizer_c10_RDF.show()"
      ],
      "execution_count": null,
      "outputs": []
    },
    {
      "cell_type": "code",
      "metadata": {
        "id": "ldhg2Px1Ga1e"
      },
      "source": [
        "predict_RDF = model_RDF.predict(test_feature_normalize)"
      ],
      "execution_count": null,
      "outputs": []
    },
    {
      "cell_type": "code",
      "metadata": {
        "id": "f6uwuQa4Gcle"
      },
      "source": [
        "acc_RDF = classification_report(test_label, predict_RDF, digits=4)\n",
        "print(acc_RDF)"
      ],
      "execution_count": null,
      "outputs": []
    },
    {
      "cell_type": "code",
      "metadata": {
        "id": "EekT4U16GeOP"
      },
      "source": [
        "con_mat_RDF = confusion_matrix(test_label, predict_RDF)\n",
        "print(con_mat_RDF)"
      ],
      "execution_count": null,
      "outputs": []
    },
    {
      "cell_type": "code",
      "metadata": {
        "id": "gqZMO1YlGfqq"
      },
      "source": [
        "rd_cm = ConfusionMatrix(model_RDF)\n",
        "\n",
        "rd_cm.fit(train_feature_normalize, train_label)\n",
        "rd_cm.score(test_feature_normalize, test_label)\n",
        "\n",
        "rd_cm.show()"
      ],
      "execution_count": null,
      "outputs": []
    }
  ]
}