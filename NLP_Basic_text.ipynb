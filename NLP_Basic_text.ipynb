{
  "nbformat": 4,
  "nbformat_minor": 0,
  "metadata": {
    "colab": {
      "name": "NLP - Basic text.ipynb",
      "provenance": [],
      "collapsed_sections": [],
      "authorship_tag": "ABX9TyMAv5oiAjjdYS/6kWw2uvUk",
      "include_colab_link": true
    },
    "kernelspec": {
      "name": "python3",
      "display_name": "Python 3"
    },
    "language_info": {
      "name": "python"
    }
  },
  "cells": [
    {
      "cell_type": "markdown",
      "metadata": {
        "id": "view-in-github",
        "colab_type": "text"
      },
      "source": [
        "<a href=\"https://colab.research.google.com/github/Kiksecret/AI_BasicNLP/blob/main/NLP_Basic_text.ipynb\" target=\"_parent\"><img src=\"https://colab.research.google.com/assets/colab-badge.svg\" alt=\"Open In Colab\"/></a>"
      ]
    },
    {
      "cell_type": "code",
      "metadata": {
        "colab": {
          "base_uri": "https://localhost:8080/",
          "height": 35
        },
        "id": "NnRB53qqO63y",
        "outputId": "6255948f-7237-49e6-9932-006d4dfdd9e7"
      },
      "source": [
        "uni = 'University of the Thai Chamber of Commorce'\n",
        "uni[6]"
      ],
      "execution_count": null,
      "outputs": [
        {
          "output_type": "execute_result",
          "data": {
            "application/vnd.google.colaboratory.intrinsic+json": {
              "type": "string"
            },
            "text/plain": [
              "'s'"
            ]
          },
          "metadata": {},
          "execution_count": 3
        }
      ]
    },
    {
      "cell_type": "code",
      "metadata": {
        "colab": {
          "base_uri": "https://localhost:8080/",
          "height": 35
        },
        "id": "CpKCAuQITZRQ",
        "outputId": "8b4aa5cd-ff9d-4c32-dea1-563af8e62074"
      },
      "source": [
        "uni[:10]"
      ],
      "execution_count": null,
      "outputs": [
        {
          "output_type": "execute_result",
          "data": {
            "application/vnd.google.colaboratory.intrinsic+json": {
              "type": "string"
            },
            "text/plain": [
              "'University'"
            ]
          },
          "metadata": {},
          "execution_count": 4
        }
      ]
    },
    {
      "cell_type": "code",
      "metadata": {
        "colab": {
          "base_uri": "https://localhost:8080/",
          "height": 35
        },
        "id": "8S54UuF6Tgmy",
        "outputId": "7caed509-91b5-4d4b-872f-cabe57c61a29"
      },
      "source": [
        "uni [18:]"
      ],
      "execution_count": null,
      "outputs": [
        {
          "output_type": "execute_result",
          "data": {
            "application/vnd.google.colaboratory.intrinsic+json": {
              "type": "string"
            },
            "text/plain": [
              "'Thai Chamber of Commorce'"
            ]
          },
          "metadata": {},
          "execution_count": 5
        }
      ]
    },
    {
      "cell_type": "code",
      "metadata": {
        "colab": {
          "base_uri": "https://localhost:8080/",
          "height": 35
        },
        "id": "nrGGIqyCTnBn",
        "outputId": "db2f1e64-32dc-4efb-e565-0c7f6efacd99"
      },
      "source": [
        "uni *2"
      ],
      "execution_count": null,
      "outputs": [
        {
          "output_type": "execute_result",
          "data": {
            "application/vnd.google.colaboratory.intrinsic+json": {
              "type": "string"
            },
            "text/plain": [
              "'University of the Thai Chamber of CommorceUniversity of the Thai Chamber of Commorce'"
            ]
          },
          "metadata": {},
          "execution_count": 6
        }
      ]
    },
    {
      "cell_type": "code",
      "metadata": {
        "colab": {
          "base_uri": "https://localhost:8080/",
          "height": 35
        },
        "id": "wc8am7clT8X5",
        "outputId": "e6856dbe-6240-46ef-9e3e-fa18fdcfa33a"
      },
      "source": [
        "cpe = 'Computer Engineering'\n",
        "space = ' '\n",
        "myand = \"and\"\n",
        "comma = ', '\n",
        "ai = 'Artificial Intelligence'\n",
        "dot = \". \"\n",
        "\n",
        "cpe + space + myand + space + ai + comma + uni + dot"
      ],
      "execution_count": null,
      "outputs": [
        {
          "output_type": "execute_result",
          "data": {
            "application/vnd.google.colaboratory.intrinsic+json": {
              "type": "string"
            },
            "text/plain": [
              "'Computer Engineering and Artificial Intelligence, University of the Thai Chamber of Commorce. '"
            ]
          },
          "metadata": {},
          "execution_count": 9
        }
      ]
    },
    {
      "cell_type": "code",
      "metadata": {
        "colab": {
          "base_uri": "https://localhost:8080/",
          "height": 35
        },
        "id": "ahcyTpEOUswz",
        "outputId": "18bcd58c-2e07-4c2c-8d61-adb3f945b433"
      },
      "source": [
        "', '.join([uni, 'Bangkok.'])"
      ],
      "execution_count": null,
      "outputs": [
        {
          "output_type": "execute_result",
          "data": {
            "application/vnd.google.colaboratory.intrinsic+json": {
              "type": "string"
            },
            "text/plain": [
              "'University of the Thai Chamber of Commorce, Bangkok.'"
            ]
          },
          "metadata": {},
          "execution_count": 14
        }
      ]
    },
    {
      "cell_type": "code",
      "metadata": {
        "colab": {
          "base_uri": "https://localhost:8080/"
        },
        "id": "ILKS8av-XiQj",
        "outputId": "a8e0362a-f08f-47df-8c25-2d313c17c56d"
      },
      "source": [
        "uni.split()"
      ],
      "execution_count": null,
      "outputs": [
        {
          "output_type": "execute_result",
          "data": {
            "text/plain": [
              "['University', 'of', 'the', 'Thai', 'Chamber', 'of', 'Commorce']"
            ]
          },
          "metadata": {},
          "execution_count": 15
        }
      ]
    }
  ]
}